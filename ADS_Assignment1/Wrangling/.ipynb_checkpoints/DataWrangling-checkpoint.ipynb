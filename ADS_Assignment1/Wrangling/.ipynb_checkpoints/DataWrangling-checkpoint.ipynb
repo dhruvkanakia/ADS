{
 "cells": [
  {
   "cell_type": "code",
   "execution_count": 11,
   "metadata": {
    "collapsed": true
   },
   "outputs": [],
   "source": [
    "import matplotlib.pyplot as plt\n",
    "import datetime as dt\n",
    "import numpy as np\n",
    "import pandas as pd\n",
    "import datetime as dt\n",
    "import numpy as np\n",
    "import pandas as pd\n",
    "import json\n",
    "import glob"
   ]
  },
  {
   "cell_type": "code",
   "execution_count": 12,
   "metadata": {},
   "outputs": [],
   "source": [
    "with open('wrangle_config.json') as data_file:    \n",
    "    data = json.load(data_file)\n",
    "\n"
   ]
  },
  {
   "cell_type": "code",
   "execution_count": 13,
   "metadata": {
    "collapsed": true
   },
   "outputs": [],
   "source": [
    "import time\n",
    "Date= time.strftime('%Y-%m-%d')"
   ]
  },
  {
   "cell_type": "code",
   "execution_count": 14,
   "metadata": {
    "collapsed": true
   },
   "outputs": [],
   "source": [
    "file=data['state']+'_'+ Date+'_'+ '23155_'+ 'clean' + '.csv'"
   ]
  },
  {
   "cell_type": "code",
   "execution_count": 15,
   "metadata": {},
   "outputs": [
    {
     "data": {
      "text/plain": [
       "'CA_2017-07-07_23155_clean.csv'"
      ]
     },
     "execution_count": 15,
     "metadata": {},
     "output_type": "execute_result"
    }
   ],
   "source": [
    "file"
   ]
  },
  {
   "cell_type": "code",
   "execution_count": 18,
   "metadata": {
    "scrolled": true
   },
   "outputs": [
    {
     "name": "stderr",
     "output_type": "stream",
     "text": [
      "C:\\Users\\AkilP\\Anaconda3\\lib\\site-packages\\IPython\\core\\interactiveshell.py:2717: DtypeWarning: Columns (13,14,21,24,25,26,27,28,30,31,35,36,37,40,57,58,61,80,81,82,87,92) have mixed types. Specify dtype option on import or set low_memory=False.\n",
      "  interactivity=interactivity, compiler=compiler, result=result)\n"
     ]
    }
   ],
   "source": [
    "import io\n",
    "import boto3\n",
    "s3 = boto3.resource(\n",
    "    's3',\n",
    "    aws_access_key_id=data[\"AWSAccess\"],\n",
    "    aws_secret_access_key=data[\"AWSSecret\"])\n",
    "bucket= s3.Bucket('adsassign1_databucket')\n",
    "client= boto3.client('s3', \n",
    "                     aws_access_key_id=data[\"AWSAccess\"],\n",
    "                    aws_secret_access_key=data[\"AWSSecret\"])\n",
    "b= list(bucket.objects.all())\n",
    "l=[(k, k.last_modified) for k in b]\n",
    "l1= [k for k, v in sorted(l, key= lambda p: p[1], reverse=True)]\n",
    "key_to_download=l1[0].key\n",
    "s3.Bucket('adsassign1_databucket').download_file(key_to_download, key_to_download)\n",
    "df=pd.read_csv(key_to_download)\n",
    "# obj = client.get_object(Bucket='adsassign1_databucket', Key=a)\n",
    "# df = pd.read_csv(key_to_download)"
   ]
  },
  {
   "cell_type": "code",
   "execution_count": null,
   "metadata": {},
   "outputs": [],
   "source": []
  },
  {
   "cell_type": "code",
   "execution_count": null,
   "metadata": {},
   "outputs": [],
   "source": []
  },
  {
   "cell_type": "code",
   "execution_count": null,
   "metadata": {
    "collapsed": true
   },
   "outputs": [],
   "source": []
  },
  {
   "cell_type": "code",
   "execution_count": null,
   "metadata": {
    "collapsed": true
   },
   "outputs": [],
   "source": []
  },
  {
   "cell_type": "code",
   "execution_count": null,
   "metadata": {
    "collapsed": true
   },
   "outputs": [],
   "source": []
  },
  {
   "cell_type": "code",
   "execution_count": 19,
   "metadata": {},
   "outputs": [],
   "source": [
    "import pandas as pd\n",
    "df['DATE']=pd.to_datetime(df['DATE'])\n"
   ]
  },
  {
   "cell_type": "code",
   "execution_count": 10,
   "metadata": {
    "collapsed": true
   },
   "outputs": [],
   "source": [
    "import datetime as dt\n",
    "df['MONTH'] = pd.to_datetime(df['DATE']).dt.month\n",
    "df['YEAR']  =   pd.to_datetime(df['DATE']).dt.year\n",
    "# df[['MONTH','YEAR']]\n",
    "\n",
    "\n"
   ]
  },
  {
   "cell_type": "code",
   "execution_count": 20,
   "metadata": {},
   "outputs": [
    {
     "data": {
      "text/html": [
       "<div>\n",
       "<style>\n",
       "    .dataframe thead tr:only-child th {\n",
       "        text-align: right;\n",
       "    }\n",
       "\n",
       "    .dataframe thead th {\n",
       "        text-align: left;\n",
       "    }\n",
       "\n",
       "    .dataframe tbody tr th {\n",
       "        vertical-align: top;\n",
       "    }\n",
       "</style>\n",
       "<table border=\"1\" class=\"dataframe\">\n",
       "  <thead>\n",
       "    <tr style=\"text-align: right;\">\n",
       "      <th></th>\n",
       "      <th>Unnamed: 0</th>\n",
       "      <th>DAILYAverageDewPointTemp</th>\n",
       "      <th>DAILYAverageDryBulbTemp</th>\n",
       "      <th>DAILYAverageRelativeHumidity</th>\n",
       "      <th>DAILYAverageSeaLevelPressure</th>\n",
       "      <th>DAILYAverageStationPressure</th>\n",
       "      <th>DAILYAverageWetBulbTemp</th>\n",
       "      <th>DAILYAverageWindSpeed</th>\n",
       "      <th>DAILYCoolingDegreeDays</th>\n",
       "      <th>DAILYDeptFromNormalAverageTemp</th>\n",
       "      <th>...</th>\n",
       "      <th>MonthlyTotalSeasonToDateCoolingDD</th>\n",
       "      <th>MonthlyTotalSeasonToDateHeatingDD</th>\n",
       "      <th>MonthlyTotalSnowfall</th>\n",
       "      <th>MonthlyWetBulbTemp</th>\n",
       "      <th>PeakWindDirection</th>\n",
       "      <th>REPORTTPYE</th>\n",
       "      <th>STATION</th>\n",
       "      <th>STATION_NAME</th>\n",
       "      <th>Unnamed: 0.1</th>\n",
       "      <th>new_date</th>\n",
       "    </tr>\n",
       "  </thead>\n",
       "  <tbody>\n",
       "    <tr>\n",
       "      <th>0</th>\n",
       "      <td>0</td>\n",
       "      <td>NaN</td>\n",
       "      <td>NaN</td>\n",
       "      <td>NaN</td>\n",
       "      <td>NaN</td>\n",
       "      <td>NaN</td>\n",
       "      <td>NaN</td>\n",
       "      <td>NaN</td>\n",
       "      <td>NaN</td>\n",
       "      <td>NaN</td>\n",
       "      <td>...</td>\n",
       "      <td>NaN</td>\n",
       "      <td>NaN</td>\n",
       "      <td>NaN</td>\n",
       "      <td>NaN</td>\n",
       "      <td>NaN</td>\n",
       "      <td>SAO</td>\n",
       "      <td>WBAN:23155</td>\n",
       "      <td>BAKERSFIELD AIRPORT CA US</td>\n",
       "      <td>0.0</td>\n",
       "      <td>NaN</td>\n",
       "    </tr>\n",
       "    <tr>\n",
       "      <th>1</th>\n",
       "      <td>1</td>\n",
       "      <td>NaN</td>\n",
       "      <td>NaN</td>\n",
       "      <td>NaN</td>\n",
       "      <td>NaN</td>\n",
       "      <td>NaN</td>\n",
       "      <td>NaN</td>\n",
       "      <td>NaN</td>\n",
       "      <td>NaN</td>\n",
       "      <td>NaN</td>\n",
       "      <td>...</td>\n",
       "      <td>NaN</td>\n",
       "      <td>NaN</td>\n",
       "      <td>NaN</td>\n",
       "      <td>NaN</td>\n",
       "      <td>NaN</td>\n",
       "      <td>SAO</td>\n",
       "      <td>WBAN:23155</td>\n",
       "      <td>BAKERSFIELD AIRPORT CA US</td>\n",
       "      <td>1.0</td>\n",
       "      <td>NaN</td>\n",
       "    </tr>\n",
       "    <tr>\n",
       "      <th>2</th>\n",
       "      <td>2</td>\n",
       "      <td>NaN</td>\n",
       "      <td>NaN</td>\n",
       "      <td>NaN</td>\n",
       "      <td>NaN</td>\n",
       "      <td>NaN</td>\n",
       "      <td>NaN</td>\n",
       "      <td>NaN</td>\n",
       "      <td>NaN</td>\n",
       "      <td>NaN</td>\n",
       "      <td>...</td>\n",
       "      <td>NaN</td>\n",
       "      <td>NaN</td>\n",
       "      <td>NaN</td>\n",
       "      <td>NaN</td>\n",
       "      <td>NaN</td>\n",
       "      <td>SAO</td>\n",
       "      <td>WBAN:23155</td>\n",
       "      <td>BAKERSFIELD AIRPORT CA US</td>\n",
       "      <td>2.0</td>\n",
       "      <td>NaN</td>\n",
       "    </tr>\n",
       "    <tr>\n",
       "      <th>3</th>\n",
       "      <td>3</td>\n",
       "      <td>NaN</td>\n",
       "      <td>NaN</td>\n",
       "      <td>NaN</td>\n",
       "      <td>NaN</td>\n",
       "      <td>NaN</td>\n",
       "      <td>NaN</td>\n",
       "      <td>NaN</td>\n",
       "      <td>NaN</td>\n",
       "      <td>NaN</td>\n",
       "      <td>...</td>\n",
       "      <td>NaN</td>\n",
       "      <td>NaN</td>\n",
       "      <td>NaN</td>\n",
       "      <td>NaN</td>\n",
       "      <td>NaN</td>\n",
       "      <td>SAO</td>\n",
       "      <td>WBAN:23155</td>\n",
       "      <td>BAKERSFIELD AIRPORT CA US</td>\n",
       "      <td>3.0</td>\n",
       "      <td>NaN</td>\n",
       "    </tr>\n",
       "    <tr>\n",
       "      <th>4</th>\n",
       "      <td>4</td>\n",
       "      <td>NaN</td>\n",
       "      <td>NaN</td>\n",
       "      <td>NaN</td>\n",
       "      <td>NaN</td>\n",
       "      <td>NaN</td>\n",
       "      <td>NaN</td>\n",
       "      <td>NaN</td>\n",
       "      <td>NaN</td>\n",
       "      <td>NaN</td>\n",
       "      <td>...</td>\n",
       "      <td>NaN</td>\n",
       "      <td>NaN</td>\n",
       "      <td>NaN</td>\n",
       "      <td>NaN</td>\n",
       "      <td>NaN</td>\n",
       "      <td>SAO</td>\n",
       "      <td>WBAN:23155</td>\n",
       "      <td>BAKERSFIELD AIRPORT CA US</td>\n",
       "      <td>4.0</td>\n",
       "      <td>NaN</td>\n",
       "    </tr>\n",
       "  </tbody>\n",
       "</table>\n",
       "<p>5 rows × 93 columns</p>\n",
       "</div>"
      ],
      "text/plain": [
       "   Unnamed: 0  DAILYAverageDewPointTemp  DAILYAverageDryBulbTemp  \\\n",
       "0           0                       NaN                      NaN   \n",
       "1           1                       NaN                      NaN   \n",
       "2           2                       NaN                      NaN   \n",
       "3           3                       NaN                      NaN   \n",
       "4           4                       NaN                      NaN   \n",
       "\n",
       "   DAILYAverageRelativeHumidity  DAILYAverageSeaLevelPressure  \\\n",
       "0                           NaN                           NaN   \n",
       "1                           NaN                           NaN   \n",
       "2                           NaN                           NaN   \n",
       "3                           NaN                           NaN   \n",
       "4                           NaN                           NaN   \n",
       "\n",
       "   DAILYAverageStationPressure  DAILYAverageWetBulbTemp  \\\n",
       "0                          NaN                      NaN   \n",
       "1                          NaN                      NaN   \n",
       "2                          NaN                      NaN   \n",
       "3                          NaN                      NaN   \n",
       "4                          NaN                      NaN   \n",
       "\n",
       "   DAILYAverageWindSpeed  DAILYCoolingDegreeDays  \\\n",
       "0                    NaN                     NaN   \n",
       "1                    NaN                     NaN   \n",
       "2                    NaN                     NaN   \n",
       "3                    NaN                     NaN   \n",
       "4                    NaN                     NaN   \n",
       "\n",
       "   DAILYDeptFromNormalAverageTemp    ...     \\\n",
       "0                             NaN    ...      \n",
       "1                             NaN    ...      \n",
       "2                             NaN    ...      \n",
       "3                             NaN    ...      \n",
       "4                             NaN    ...      \n",
       "\n",
       "   MonthlyTotalSeasonToDateCoolingDD  MonthlyTotalSeasonToDateHeatingDD  \\\n",
       "0                                NaN                                NaN   \n",
       "1                                NaN                                NaN   \n",
       "2                                NaN                                NaN   \n",
       "3                                NaN                                NaN   \n",
       "4                                NaN                                NaN   \n",
       "\n",
       "   MonthlyTotalSnowfall MonthlyWetBulbTemp PeakWindDirection  REPORTTPYE  \\\n",
       "0                   NaN                NaN               NaN         SAO   \n",
       "1                   NaN                NaN               NaN         SAO   \n",
       "2                   NaN                NaN               NaN         SAO   \n",
       "3                   NaN                NaN               NaN         SAO   \n",
       "4                   NaN                NaN               NaN         SAO   \n",
       "\n",
       "      STATION               STATION_NAME  Unnamed: 0.1  new_date  \n",
       "0  WBAN:23155  BAKERSFIELD AIRPORT CA US           0.0       NaN  \n",
       "1  WBAN:23155  BAKERSFIELD AIRPORT CA US           1.0       NaN  \n",
       "2  WBAN:23155  BAKERSFIELD AIRPORT CA US           2.0       NaN  \n",
       "3  WBAN:23155  BAKERSFIELD AIRPORT CA US           3.0       NaN  \n",
       "4  WBAN:23155  BAKERSFIELD AIRPORT CA US           4.0       NaN  \n",
       "\n",
       "[5 rows x 93 columns]"
      ]
     },
     "execution_count": 20,
     "metadata": {},
     "output_type": "execute_result"
    }
   ],
   "source": [
    "df.head()"
   ]
  },
  {
   "cell_type": "code",
   "execution_count": null,
   "metadata": {
    "collapsed": true
   },
   "outputs": [],
   "source": []
  },
  {
   "cell_type": "code",
   "execution_count": null,
   "metadata": {
    "collapsed": true
   },
   "outputs": [],
   "source": []
  },
  {
   "cell_type": "code",
   "execution_count": null,
   "metadata": {
    "collapsed": true
   },
   "outputs": [],
   "source": []
  },
  {
   "cell_type": "code",
   "execution_count": null,
   "metadata": {
    "collapsed": true
   },
   "outputs": [],
   "source": []
  },
  {
   "cell_type": "code",
   "execution_count": null,
   "metadata": {
    "collapsed": true
   },
   "outputs": [],
   "source": []
  },
  {
   "cell_type": "code",
   "execution_count": null,
   "metadata": {
    "collapsed": true
   },
   "outputs": [],
   "source": []
  },
  {
   "cell_type": "code",
   "execution_count": null,
   "metadata": {
    "collapsed": true
   },
   "outputs": [],
   "source": []
  },
  {
   "cell_type": "code",
   "execution_count": null,
   "metadata": {
    "collapsed": true
   },
   "outputs": [],
   "source": []
  },
  {
   "cell_type": "code",
   "execution_count": null,
   "metadata": {
    "collapsed": true
   },
   "outputs": [],
   "source": []
  },
  {
   "cell_type": "code",
   "execution_count": null,
   "metadata": {
    "collapsed": true
   },
   "outputs": [],
   "source": []
  },
  {
   "cell_type": "code",
   "execution_count": null,
   "metadata": {
    "collapsed": true
   },
   "outputs": [],
   "source": []
  },
  {
   "cell_type": "code",
   "execution_count": null,
   "metadata": {
    "collapsed": true
   },
   "outputs": [],
   "source": []
  },
  {
   "cell_type": "code",
   "execution_count": null,
   "metadata": {
    "collapsed": true
   },
   "outputs": [],
   "source": []
  },
  {
   "cell_type": "code",
   "execution_count": null,
   "metadata": {
    "collapsed": true
   },
   "outputs": [],
   "source": []
  },
  {
   "cell_type": "code",
   "execution_count": null,
   "metadata": {
    "collapsed": true
   },
   "outputs": [],
   "source": []
  },
  {
   "cell_type": "code",
   "execution_count": 21,
   "metadata": {},
   "outputs": [],
   "source": [
    "df[\"HOURLYVISIBILITY\"]=df[\"HOURLYVISIBILITY\"].str.replace('s','')\n",
    "df[\"HOURLYVISIBILITY\"]=df[\"HOURLYVISIBILITY\"].str.replace('V','')\n",
    "df[\"HOURLYVISIBILITY\"]=df[\"HOURLYVISIBILITY\"].fillna(0)\n",
    "df[\"HOURLYVISIBILITY\"]=df[\"HOURLYVISIBILITY\"].astype(float)\n",
    "df[\"HOURLYVISIBILITY\"]=df[\"HOURLYVISIBILITY\"].astype(float)\n",
    "mean_station_pressure =df[\"HOURLYVISIBILITY\"].mean(skipna=True)\n",
    "df[\"HOURLYVISIBILITY\"]=df.HOURLYVISIBILITY.mask(df.HOURLYVISIBILITY == 0,mean_station_pressure)\n",
    "\n",
    "\n",
    "\n",
    "\n",
    "df[\"HOURLYStationPressure\"]=df[\"HOURLYStationPressure\"].str.replace('s','')\n",
    "df[\"HOURLYStationPressure\"]=df[\"HOURLYStationPressure\"].str.replace('V','')\n",
    "df[\"HOURLYStationPressure\"]=df[\"HOURLYStationPressure\"].fillna(0)\n",
    "df[\"HOURLYStationPressure\"]=df[\"HOURLYStationPressure\"].astype(float)\n",
    "df[\"HOURLYStationPressure\"]=df[\"HOURLYStationPressure\"].astype(float)\n",
    "mean_station_pressure =df[\"HOURLYStationPressure\"].mean(skipna=True)\n",
    "df[\"HOURLYStationPressure\"]=df.HOURLYStationPressure.mask(df.HOURLYStationPressure == 0,mean_station_pressure)\n",
    "\n",
    "df[\"DAILYPeakWindSpeed\"]=df[\"DAILYPeakWindSpeed\"].str.replace('s','')\n",
    "df[\"DAILYPeakWindSpeed\"]=df[\"DAILYPeakWindSpeed\"].str.replace('V','')\n",
    "df[\"DAILYPeakWindSpeed\"]=df[\"DAILYPeakWindSpeed\"].fillna(0)\n",
    "df[\"DAILYPeakWindSpeed\"]=df[\"DAILYPeakWindSpeed\"].astype(float)\n",
    "df[\"DAILYPeakWindSpeed\"]=df[\"DAILYPeakWindSpeed\"].astype(float)\n",
    "mean_station_pressure =df[\"DAILYPeakWindSpeed\"].mean(skipna=True)\n",
    "df[\"DAILYPeakWindSpeed\"]=df.DAILYPeakWindSpeed.mask(df.DAILYPeakWindSpeed == 0,mean_station_pressure)\n",
    "\n",
    "\n",
    "df[\"HOURLYDewPointTempC\"]=df[\"HOURLYDewPointTempC\"].str.replace('s','')\n",
    "df[\"HOURLYDewPointTempC\"]=df[\"HOURLYDewPointTempC\"].str.replace('V','')\n",
    "df[\"HOURLYDewPointTempC\"]=df[\"HOURLYDewPointTempC\"].fillna(0)\n",
    "df[\"HOURLYDewPointTempC\"]=df[\"HOURLYDewPointTempC\"].astype(float)\n",
    "df[\"HOURLYDewPointTempC\"]=df[\"HOURLYDewPointTempC\"].astype(float)\n",
    "mean_station_pressure =df[\"HOURLYDewPointTempC\"].mean(skipna=True)\n",
    "df[\"HOURLYDewPointTempC\"]=df.HOURLYDewPointTempC.mask(df.HOURLYDewPointTempC == 0,mean_station_pressure)\n",
    "\n",
    "\n",
    "\n",
    "df[\"MonthlyTotalHeatingDegreeDays\"]=df[\"MonthlyTotalHeatingDegreeDays\"].str.replace('s','')\n",
    "df[\"MonthlyTotalHeatingDegreeDays\"]=df[\"MonthlyTotalHeatingDegreeDays\"].str.replace('V','')\n",
    "df[\"MonthlyTotalHeatingDegreeDays\"]=df[\"MonthlyTotalHeatingDegreeDays\"].fillna(0)\n",
    "df[\"MonthlyTotalHeatingDegreeDays\"]=df[\"MonthlyTotalHeatingDegreeDays\"].astype(float)\n",
    "df[\"MonthlyTotalHeatingDegreeDays\"]=df[\"MonthlyTotalHeatingDegreeDays\"].astype(float)\n",
    "mean_station_pressure =df[\"MonthlyTotalHeatingDegreeDays\"].mean(skipna=True)\n",
    "df[\"MonthlyTotalHeatingDegreeDays\"]=df.MonthlyTotalHeatingDegreeDays.mask(df.MonthlyTotalHeatingDegreeDays == 0,mean_station_pressure)\n",
    "\n",
    "\n",
    "df[\"MonthlyTotalCoolingDegreeDays\"]=df[\"MonthlyTotalCoolingDegreeDays\"].str.replace('s','')\n",
    "df[\"MonthlyTotalCoolingDegreeDays\"]=df[\"MonthlyTotalCoolingDegreeDays\"].str.replace('V','')\n",
    "df[\"MonthlyTotalCoolingDegreeDays\"]=df[\"MonthlyTotalCoolingDegreeDays\"].fillna(0)\n",
    "df[\"MonthlyTotalCoolingDegreeDays\"]=df[\"MonthlyTotalCoolingDegreeDays\"].astype(float)\n",
    "df[\"MonthlyTotalCoolingDegreeDays\"]=df[\"MonthlyTotalCoolingDegreeDays\"].astype(float)\n",
    "mean_station_pressure =df[\"MonthlyTotalCoolingDegreeDays\"].mean(skipna=True)\n",
    "df[\"MonthlyTotalCoolingDegreeDays\"]=df.MonthlyTotalCoolingDegreeDays.mask(df.MonthlyTotalCoolingDegreeDays == 0,mean_station_pressure)\n",
    "\n",
    "\n",
    "\n",
    "\n"
   ]
  },
  {
   "cell_type": "code",
   "execution_count": 22,
   "metadata": {},
   "outputs": [],
   "source": [
    "df1= df[['DATE','DAILYAverageDewPointTemp','DAILYAverageDryBulbTemp','DAILYAverageRelativeHumidity','DAILYAverageSeaLevelPressure',\n",
    "         'DAILYAverageStationPressure','DAILYAverageWetBulbTemp','DAILYAverageWindSpeed','DAILYCoolingDegreeDays','DAILYDeptFromNormalAverageTemp','DAILYHeatingDegreeDays',\n",
    "         'DAILYMaximumDryBulbTemp','DAILYMinimumDryBulbTemp',\n",
    "'DAILYPeakWindSpeed',\n",
    "\n",
    "'HOURLYAltimeterSetting','HOURLYDRYBULBTEMPC','HOURLYDRYBULBTEMPF','HOURLYDewPointTempC','HOURLYDewPointTempF',\n",
    "'HOURLYPrecip','HOURLYPressureChange','HOURLYPressureTendency','HOURLYRelativeHumidity',\n",
    "'HOURLYSeaLevelPressure','HOURLYStationPressure','HOURLYVISIBILITY','HOURLYWETBULBTEMPC','HOURLYWETBULBTEMPF','HOURLYWindDirection','MonthlyMaximumTemp','MonthlyMinimumTemp',\n",
    "        'MonthlyMeanTemp','MonthlyStationPressure','MonthlySeaLevelPressure','MonthlyDeptFromNormalMaximumTemp','MonthlyDeptFromNormalMinimumTemp',\n",
    "        'MonthlyDeptFromNormalAverageTemp','MonthlyDeptFromNormalPrecip','MonthlyDeptFromNormalPrecip','MonthlyTotalLiquidPrecip',\n",
    "        'MonthlyDaysWithGT90Temp','MonthlyDaysWithGT32Temp','MonthlyTotalHeatingDegreeDays','MonthlyTotalCoolingDegreeDays','MonthlyDeptFromNormalHeatingDD',\n",
    "        'MonthlyDeptFromNormalCoolingDD','MonthlyTotalSeasonToDateCoolingDD']]"
   ]
  },
  {
   "cell_type": "code",
   "execution_count": 23,
   "metadata": {
    "collapsed": true
   },
   "outputs": [],
   "source": [
    "df1.to_csv(file)"
   ]
  },
  {
   "cell_type": "code",
   "execution_count": 24,
   "metadata": {
    "collapsed": true
   },
   "outputs": [],
   "source": [
    "import boto3\n",
    "s3 = boto3.resource(\n",
    "    's3',\n",
    "    aws_access_key_id=data[\"AWSAccess\"],\n",
    "    aws_secret_access_key=data[\"AWSSecret\"])"
   ]
  },
  {
   "cell_type": "code",
   "execution_count": 25,
   "metadata": {
    "scrolled": true
   },
   "outputs": [
    {
     "name": "stdout",
     "output_type": "stream",
     "text": [
      "CA_2017-07-07_23155.csv\n",
      "CA_2017-07-07_23155_clean.csv\n"
     ]
    }
   ],
   "source": [
    "uploadFileNames = []\n",
    "\n",
    "for filename in glob.glob(\"*.csv\"):\n",
    "    uploadFileNames.append(filename)\n",
    "    print(filename)\n"
   ]
  },
  {
   "cell_type": "code",
   "execution_count": 26,
   "metadata": {},
   "outputs": [
    {
     "name": "stdout",
     "output_type": "stream",
     "text": [
      "CA_2017-07-07_23155.csv exists\n",
      "CA_2017-07-07_23155_clean.csv\n",
      "CA_2017-07-07_23155_clean.csv exists\n"
     ]
    }
   ],
   "source": [
    "import boto3\n",
    "import botocore\n",
    "\n",
    "s3 = boto3.resource(\n",
    "    's3',\n",
    "    aws_access_key_id=data[\"AWSAccess\"],\n",
    "    aws_secret_access_key=data[\"AWSSecret\"])\n",
    "exists= False\n",
    "for files in uploadFileNames:\n",
    "    try:\n",
    "\n",
    "            s3.Object('adsassign1_databucket', files).load()\n",
    "    except botocore.exceptions.ClientError as e:\n",
    "        if e.response['Error']['Code'] == \"404\":\n",
    "            s3.Object(\"adsassign1_databucket\", files).put(Body=open(files, 'rb'))\n",
    "            print(files)\n",
    "            \n",
    "        else:\n",
    "            raise\n",
    "    else:\n",
    "        exists = True\n",
    "\n",
    "    print(files+''+' exists')\n"
   ]
  },
  {
   "cell_type": "code",
   "execution_count": null,
   "metadata": {
    "collapsed": true
   },
   "outputs": [],
   "source": []
  }
 ],
 "metadata": {
  "anaconda-cloud": {},
  "kernelspec": {
   "display_name": "Python 3",
   "language": "python",
   "name": "python3"
  },
  "language_info": {
   "codemirror_mode": {
    "name": "ipython",
    "version": 3
   },
   "file_extension": ".py",
   "mimetype": "text/x-python",
   "name": "python",
   "nbconvert_exporter": "python",
   "pygments_lexer": "ipython3",
   "version": "3.6.1"
  }
 },
 "nbformat": 4,
 "nbformat_minor": 2
}
